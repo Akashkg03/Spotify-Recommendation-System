{
 "cells": [
  {
   "cell_type": "markdown",
   "id": "30a97f9d",
   "metadata": {},
   "source": [
    "## Problem Statement\n",
    "- This project analyzes Spotify song data and builds a recommendation system to suggest songs based on user listening behavior."
   ]
  },
  {
   "cell_type": "markdown",
   "id": "a7885c86",
   "metadata": {},
   "source": [
    "## Importing necessary libraries"
   ]
  },
  {
   "cell_type": "code",
   "execution_count": 3,
   "id": "a4ae15f6",
   "metadata": {
    "ExecuteTime": {
     "end_time": "2024-02-08T09:41:04.349656Z",
     "start_time": "2024-02-08T09:41:04.340661Z"
    }
   },
   "outputs": [],
   "source": [
    "# for data manipulation and analysis\n",
    "import pandas as pd\n",
    "import numpy as np\n",
    "\n",
    "# for data visualization\n",
    "import matplotlib.pyplot as plt\n",
    "\n",
    "# for warning filtering\n",
    "import warnings\n",
    "warnings.filterwarnings('ignore')\n",
    "\n",
    "# for feature decomposition\n",
    "from sklearn.decomposition import NMF\n",
    "\n",
    "# for clustering\n",
    "from sklearn.cluster import KMeans\n",
    "from sklearn.neighbors import NearestNeighbors "
   ]
  },
  {
   "cell_type": "markdown",
   "id": "a63a6f69",
   "metadata": {},
   "source": [
    "## Loading the dataframe"
   ]
  },
  {
   "cell_type": "code",
   "execution_count": 4,
   "id": "7152845e",
   "metadata": {
    "ExecuteTime": {
     "end_time": "2024-02-08T09:41:07.992566Z",
     "start_time": "2024-02-08T09:41:05.676894Z"
    },
    "scrolled": true
   },
   "outputs": [
    {
     "data": {
      "text/html": [
       "<div>\n",
       "<style scoped>\n",
       "    .dataframe tbody tr th:only-of-type {\n",
       "        vertical-align: middle;\n",
       "    }\n",
       "\n",
       "    .dataframe tbody tr th {\n",
       "        vertical-align: top;\n",
       "    }\n",
       "\n",
       "    .dataframe thead th {\n",
       "        text-align: right;\n",
       "    }\n",
       "</style>\n",
       "<table border=\"1\" class=\"dataframe\">\n",
       "  <thead>\n",
       "    <tr style=\"text-align: right;\">\n",
       "      <th></th>\n",
       "      <th>song_1</th>\n",
       "      <th>song_2</th>\n",
       "      <th>song_3</th>\n",
       "      <th>song_4</th>\n",
       "      <th>song_5</th>\n",
       "      <th>song_6</th>\n",
       "      <th>song_7</th>\n",
       "      <th>song_8</th>\n",
       "      <th>song_9</th>\n",
       "      <th>song_10</th>\n",
       "      <th>...</th>\n",
       "      <th>song_4991</th>\n",
       "      <th>song_4992</th>\n",
       "      <th>song_4993</th>\n",
       "      <th>song_4994</th>\n",
       "      <th>song_4995</th>\n",
       "      <th>song_4996</th>\n",
       "      <th>song_4997</th>\n",
       "      <th>song_4998</th>\n",
       "      <th>song_4999</th>\n",
       "      <th>song_5000</th>\n",
       "    </tr>\n",
       "  </thead>\n",
       "  <tbody>\n",
       "    <tr>\n",
       "      <th>user_1</th>\n",
       "      <td>2</td>\n",
       "      <td>2</td>\n",
       "      <td>8</td>\n",
       "      <td>8</td>\n",
       "      <td>13</td>\n",
       "      <td>1</td>\n",
       "      <td>4</td>\n",
       "      <td>9</td>\n",
       "      <td>1</td>\n",
       "      <td>2</td>\n",
       "      <td>...</td>\n",
       "      <td>14</td>\n",
       "      <td>2</td>\n",
       "      <td>14</td>\n",
       "      <td>1</td>\n",
       "      <td>9</td>\n",
       "      <td>0</td>\n",
       "      <td>11</td>\n",
       "      <td>6</td>\n",
       "      <td>14</td>\n",
       "      <td>7</td>\n",
       "    </tr>\n",
       "    <tr>\n",
       "      <th>user_2</th>\n",
       "      <td>13</td>\n",
       "      <td>5</td>\n",
       "      <td>5</td>\n",
       "      <td>5</td>\n",
       "      <td>12</td>\n",
       "      <td>8</td>\n",
       "      <td>10</td>\n",
       "      <td>10</td>\n",
       "      <td>2</td>\n",
       "      <td>2</td>\n",
       "      <td>...</td>\n",
       "      <td>10</td>\n",
       "      <td>6</td>\n",
       "      <td>11</td>\n",
       "      <td>1</td>\n",
       "      <td>1</td>\n",
       "      <td>5</td>\n",
       "      <td>12</td>\n",
       "      <td>8</td>\n",
       "      <td>3</td>\n",
       "      <td>0</td>\n",
       "    </tr>\n",
       "    <tr>\n",
       "      <th>user_3</th>\n",
       "      <td>3</td>\n",
       "      <td>9</td>\n",
       "      <td>2</td>\n",
       "      <td>8</td>\n",
       "      <td>0</td>\n",
       "      <td>1</td>\n",
       "      <td>11</td>\n",
       "      <td>7</td>\n",
       "      <td>3</td>\n",
       "      <td>7</td>\n",
       "      <td>...</td>\n",
       "      <td>9</td>\n",
       "      <td>5</td>\n",
       "      <td>7</td>\n",
       "      <td>15</td>\n",
       "      <td>12</td>\n",
       "      <td>13</td>\n",
       "      <td>14</td>\n",
       "      <td>5</td>\n",
       "      <td>0</td>\n",
       "      <td>14</td>\n",
       "    </tr>\n",
       "    <tr>\n",
       "      <th>user_4</th>\n",
       "      <td>2</td>\n",
       "      <td>6</td>\n",
       "      <td>7</td>\n",
       "      <td>8</td>\n",
       "      <td>14</td>\n",
       "      <td>0</td>\n",
       "      <td>12</td>\n",
       "      <td>7</td>\n",
       "      <td>8</td>\n",
       "      <td>1</td>\n",
       "      <td>...</td>\n",
       "      <td>9</td>\n",
       "      <td>15</td>\n",
       "      <td>9</td>\n",
       "      <td>14</td>\n",
       "      <td>10</td>\n",
       "      <td>6</td>\n",
       "      <td>11</td>\n",
       "      <td>13</td>\n",
       "      <td>6</td>\n",
       "      <td>0</td>\n",
       "    </tr>\n",
       "    <tr>\n",
       "      <th>user_5</th>\n",
       "      <td>11</td>\n",
       "      <td>12</td>\n",
       "      <td>8</td>\n",
       "      <td>6</td>\n",
       "      <td>13</td>\n",
       "      <td>7</td>\n",
       "      <td>0</td>\n",
       "      <td>7</td>\n",
       "      <td>3</td>\n",
       "      <td>13</td>\n",
       "      <td>...</td>\n",
       "      <td>12</td>\n",
       "      <td>14</td>\n",
       "      <td>11</td>\n",
       "      <td>11</td>\n",
       "      <td>11</td>\n",
       "      <td>7</td>\n",
       "      <td>3</td>\n",
       "      <td>6</td>\n",
       "      <td>11</td>\n",
       "      <td>7</td>\n",
       "    </tr>\n",
       "  </tbody>\n",
       "</table>\n",
       "<p>5 rows × 5000 columns</p>\n",
       "</div>"
      ],
      "text/plain": [
       "        song_1  song_2  song_3  song_4  song_5  song_6  song_7  song_8  \\\n",
       "user_1       2       2       8       8      13       1       4       9   \n",
       "user_2      13       5       5       5      12       8      10      10   \n",
       "user_3       3       9       2       8       0       1      11       7   \n",
       "user_4       2       6       7       8      14       0      12       7   \n",
       "user_5      11      12       8       6      13       7       0       7   \n",
       "\n",
       "        song_9  song_10  ...  song_4991  song_4992  song_4993  song_4994  \\\n",
       "user_1       1        2  ...         14          2         14          1   \n",
       "user_2       2        2  ...         10          6         11          1   \n",
       "user_3       3        7  ...          9          5          7         15   \n",
       "user_4       8        1  ...          9         15          9         14   \n",
       "user_5       3       13  ...         12         14         11         11   \n",
       "\n",
       "        song_4995  song_4996  song_4997  song_4998  song_4999  song_5000  \n",
       "user_1          9          0         11          6         14          7  \n",
       "user_2          1          5         12          8          3          0  \n",
       "user_3         12         13         14          5          0         14  \n",
       "user_4         10          6         11         13          6          0  \n",
       "user_5         11          7          3          6         11          7  \n",
       "\n",
       "[5 rows x 5000 columns]"
      ]
     },
     "execution_count": 4,
     "metadata": {},
     "output_type": "execute_result"
    }
   ],
   "source": [
    "df = pd.read_csv('spotify.xls',index_col=0)\n",
    "df.head()"
   ]
  },
  {
   "cell_type": "markdown",
   "id": "dfbc79a2",
   "metadata": {},
   "source": [
    "#### About the dataset\n",
    "- The dataset contains the number of songs heard by each user."
   ]
  },
  {
   "cell_type": "code",
   "execution_count": 9,
   "id": "da1c8f3e",
   "metadata": {
    "ExecuteTime": {
     "end_time": "2024-02-08T09:42:53.604963Z",
     "start_time": "2024-02-08T09:42:53.574975Z"
    },
    "scrolled": false
   },
   "outputs": [
    {
     "data": {
      "text/plain": [
       "0"
      ]
     },
     "execution_count": 9,
     "metadata": {},
     "output_type": "execute_result"
    }
   ],
   "source": [
    "df.isna().sum().sum()"
   ]
  },
  {
   "cell_type": "markdown",
   "id": "0e8fcd11",
   "metadata": {},
   "source": [
    "- There are no missing values in the dataset,Since the dataset only contains user listening data, no further preprocessing is required."
   ]
  },
  {
   "cell_type": "markdown",
   "id": "3b2416cd",
   "metadata": {},
   "source": [
    "### Non negative matrix factorization"
   ]
  },
  {
   "cell_type": "markdown",
   "id": "a1f856ae",
   "metadata": {},
   "source": [
    "- Apply NMF to factorize the feature matrix into two non-negative matrices."
   ]
  },
  {
   "cell_type": "code",
   "execution_count": 10,
   "id": "ba8933eb",
   "metadata": {
    "ExecuteTime": {
     "end_time": "2024-02-08T09:57:26.797523Z",
     "start_time": "2024-02-08T09:53:58.848859Z"
    }
   },
   "outputs": [],
   "source": [
    "nmf = NMF(n_components = 100,max_iter = 1000,random_state = 100)\n",
    "x = df.values\n",
    "nmf.fit(x)\n",
    "user_matrix = nmf.transform(x)\n",
    "song_matrix = nmf.components_.T"
   ]
  },
  {
   "cell_type": "markdown",
   "id": "24266632",
   "metadata": {},
   "source": [
    " By doing NMF we get two non-negative matrices.\n",
    "  - user_matrix (songs × latent factors)\n",
    "  - song matrix (latent factors × songs)\n",
    "\n",
    "latent factors are the factors that capture the main components of matrix. In this dataset assume the latent factor are to be different genres."
   ]
  },
  {
   "cell_type": "code",
   "execution_count": 14,
   "id": "c8b816a6",
   "metadata": {
    "ExecuteTime": {
     "end_time": "2024-02-08T10:25:13.400292Z",
     "start_time": "2024-02-08T10:25:13.390299Z"
    }
   },
   "outputs": [
    {
     "data": {
      "text/plain": [
       "(1000, 100)"
      ]
     },
     "execution_count": 14,
     "metadata": {},
     "output_type": "execute_result"
    }
   ],
   "source": [
    "user_matrix.shape"
   ]
  },
  {
   "cell_type": "markdown",
   "id": "5b4b631b",
   "metadata": {},
   "source": [
    "- so user matrix has 1000 users and each user interest in 100 different genres."
   ]
  },
  {
   "cell_type": "code",
   "execution_count": 15,
   "id": "d72698f5",
   "metadata": {
    "ExecuteTime": {
     "end_time": "2024-02-08T10:28:05.844426Z",
     "start_time": "2024-02-08T10:28:05.834434Z"
    }
   },
   "outputs": [
    {
     "data": {
      "text/plain": [
       "(5000, 100)"
      ]
     },
     "execution_count": 15,
     "metadata": {},
     "output_type": "execute_result"
    }
   ],
   "source": [
    "song_matrix.shape"
   ]
  },
  {
   "cell_type": "markdown",
   "id": "129322d4",
   "metadata": {
    "ExecuteTime": {
     "end_time": "2024-02-08T10:33:06.705774Z",
     "start_time": "2024-02-08T10:33:06.688783Z"
    }
   },
   "source": [
    "- Likely song matrix has 5000 songs and each song represent that how much it belongs to 100 different genres."
   ]
  },
  {
   "cell_type": "markdown",
   "id": "de0293c9",
   "metadata": {},
   "source": [
    "## Building a recommendation system"
   ]
  },
  {
   "cell_type": "markdown",
   "id": "bd6b932e",
   "metadata": {},
   "source": [
    "We can build recommendation system in two ways\n",
    "- 1. Based on user_matrix : Here we consider recommending songs based on the songs heard by users of the same interest in genres.\n",
    "- 2. based on song_matrix : here we recommend songs based on genres."
   ]
  },
  {
   "cell_type": "markdown",
   "id": "8e06b786",
   "metadata": {},
   "source": [
    "## Type 1 approach : (smaller dataset)\n",
    "\n",
    "- consider recommending song to a user in user matrix.\n",
    "- calculate the euclidean distance between that user and remaining user\n",
    "- find top n songs heard by nearest user\n",
    "- recommend these songs to that user."
   ]
  },
  {
   "cell_type": "markdown",
   "id": "2b177446",
   "metadata": {},
   "source": [
    "calculate the distance"
   ]
  },
  {
   "cell_type": "code",
   "execution_count": 18,
   "id": "ef6287ca",
   "metadata": {
    "ExecuteTime": {
     "end_time": "2024-02-08T10:58:32.649184Z",
     "start_time": "2024-02-08T10:58:32.639207Z"
    }
   },
   "outputs": [],
   "source": [
    "def user_dist(U1,U2):\n",
    "    return pow(sum(pow(U1[x] - U2[x],2) for x in range(len(U1))),0.5)"
   ]
  },
  {
   "cell_type": "code",
   "execution_count": 19,
   "id": "50159d6e",
   "metadata": {
    "ExecuteTime": {
     "end_time": "2024-02-08T10:58:34.094373Z",
     "start_time": "2024-02-08T10:58:34.081365Z"
    }
   },
   "outputs": [
    {
     "data": {
      "text/plain": [
       "12.962015431901865"
      ]
     },
     "execution_count": 19,
     "metadata": {},
     "output_type": "execute_result"
    }
   ],
   "source": [
    "user_dist(user_matrix[0],user_matrix[1])"
   ]
  },
  {
   "cell_type": "code",
   "execution_count": 20,
   "id": "4b2484b0",
   "metadata": {
    "ExecuteTime": {
     "end_time": "2024-02-08T10:58:36.009257Z",
     "start_time": "2024-02-08T10:58:35.997262Z"
    }
   },
   "outputs": [],
   "source": [
    "def recommend_songs(mydf,b_user,user_matrix,n_user,n_songs):\n",
    "    dist = []\n",
    "    for x in range(len(user_matrix)):\n",
    "        if b_user != x:\n",
    "            dist.append(user_dist(user_matrix[b_user],user_matrix[x]))\n",
    "    nearest_user = np.argsort(dist)[:n_user]\n",
    "    temp = mydf.iloc[nearest_user]\n",
    "    dist = temp.max().to_dict()\n",
    "    sorted_df = sorted(dist.items(),key = (lambda x:(x[1],x[0])),reverse = True)[:n_songs]\n",
    "    return [x[0] for x in sorted_df]"
   ]
  },
  {
   "cell_type": "code",
   "execution_count": 21,
   "id": "1f6d75a7",
   "metadata": {
    "ExecuteTime": {
     "end_time": "2024-02-08T10:58:40.468697Z",
     "start_time": "2024-02-08T10:58:40.148883Z"
    }
   },
   "outputs": [
    {
     "data": {
      "text/plain": [
       "['song_999', 'song_997', 'song_996', 'song_995', 'song_994']"
      ]
     },
     "execution_count": 21,
     "metadata": {},
     "output_type": "execute_result"
    }
   ],
   "source": [
    "recommend_songs(df,10,user_matrix,10,5)"
   ]
  },
  {
   "cell_type": "markdown",
   "id": "c7e91213",
   "metadata": {},
   "source": [
    "## Type 2 approach\n",
    "- using kmeans clustering to find the clusters of songs in same genres.\n",
    "- recommend songs to all user of top heard songs in that cluster"
   ]
  },
  {
   "cell_type": "markdown",
   "id": "7b854508",
   "metadata": {},
   "source": [
    "### Finding k value for kmeans"
   ]
  },
  {
   "cell_type": "code",
   "execution_count": 22,
   "id": "6e184bdb",
   "metadata": {
    "ExecuteTime": {
     "end_time": "2024-02-08T11:01:03.021889Z",
     "start_time": "2024-02-08T10:58:43.948702Z"
    }
   },
   "outputs": [],
   "source": [
    "wcss = []\n",
    "for k in range(1,51):\n",
    "    kmeans = KMeans(n_clusters = k,random_state = 5)\n",
    "    kmeans.fit(song_matrix)\n",
    "    wcss.append(kmeans.inertia_)"
   ]
  },
  {
   "cell_type": "code",
   "execution_count": 23,
   "id": "a14ed30b",
   "metadata": {
    "ExecuteTime": {
     "end_time": "2024-02-08T11:01:03.747474Z",
     "start_time": "2024-02-08T11:01:03.028888Z"
    }
   },
   "outputs": [
    {
     "data": {
      "text/plain": [
       "Text(0, 0.5, 'wcss')"
      ]
     },
     "execution_count": 23,
     "metadata": {},
     "output_type": "execute_result"
    },
    {
     "data": {
      "image/png": "[encoded data removed]",
      "text/plain": [
       "<Figure size 640x480 with 1 Axes>"
      ]
     },
     "metadata": {},
     "output_type": "display_data"
    }
   ],
   "source": [
    "plt.plot(range(1,51),wcss)\n",
    "plt.xlabel('no of clusters')\n",
    "plt.ylabel('wcss')"
   ]
  },
  {
   "cell_type": "code",
   "execution_count": 24,
   "id": "c504ae64",
   "metadata": {
    "ExecuteTime": {
     "end_time": "2024-02-08T11:01:03.768465Z",
     "start_time": "2024-02-08T11:01:03.753474Z"
    }
   },
   "outputs": [],
   "source": [
    "def recommend_songs(n_cluster,df,song_matrix,song_name,n_recommendation):\n",
    "    kmeans = KMeans(n_clusters = n_cluster,max_iter = 1000,random_state = 5).fit(song_matrix)\n",
    "    all_songs_in_cluster = kmeans.predict(song_matrix)\n",
    "    index_in_songs = df.columns.to_list().index(song_name)\n",
    "    song_vector = song_matrix[index_in_songs]\n",
    "    songs_in_selected_cluster = [x for x in range(len(all_songs_in_cluster))\n",
    "                                if all_songs_in_cluster[x] == kmeans.predict([song_vector])]\n",
    "    song_cluster = song_matrix[songs_in_selected_cluster]\n",
    "    neighbors = NearestNeighbors(n_neighbors = n_recommendation)\n",
    "    neighbors.fit(song_cluster)\n",
    "    recommended_songs = neighbors.kneighbors([song_vector])\n",
    "    songs = df.columns\n",
    "    return [songs[x] for x in recommended_songs[1][0]]"
   ]
  },
  {
   "cell_type": "code",
   "execution_count": 25,
   "id": "a0648b9f",
   "metadata": {
    "ExecuteTime": {
     "end_time": "2024-02-08T11:01:16.300273Z",
     "start_time": "2024-02-08T11:01:03.776458Z"
    }
   },
   "outputs": [
    {
     "data": {
      "text/plain": [
       "['song_1', 'song_241', 'song_102', 'song_158', 'song_340']"
      ]
     },
     "execution_count": 25,
     "metadata": {},
     "output_type": "execute_result"
    }
   ],
   "source": [
    "recommend_songs(15,df,song_matrix,'song_5',5)"
   ]
  },
  {
   "cell_type": "markdown",
   "id": "8726e7f9",
   "metadata": {},
   "source": [
    "## Conclusion"
   ]
  },
  {
   "cell_type": "markdown",
   "id": "f4b6a302",
   "metadata": {},
   "source": [
    "- This project successfully built a recommendation system using Spotify song data. It provides song recommendations based on user listening behavior."
   ]
  }
 ],
 "metadata": {
  "kernelspec": {
   "display_name": "Python 3 (ipykernel)",
   "language": "python",
   "name": "python3"
  },
  "language_info": {
   "codemirror_mode": {
    "name": "ipython",
    "version": 3
   },
   "file_extension": ".py",
   "mimetype": "text/x-python",
   "name": "python",
   "nbconvert_exporter": "python",
   "pygments_lexer": "ipython3",
   "version": "3.9.13"
  }
 },
 "nbformat": 4,
 "nbformat_minor": 5
}
